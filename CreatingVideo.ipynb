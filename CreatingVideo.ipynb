{
 "cells": [
  {
   "cell_type": "markdown",
   "metadata": {},
   "source": [
    "Изображения"
   ]
  },
  {
   "cell_type": "code",
   "execution_count": 1,
   "metadata": {},
   "outputs": [],
   "source": [
    "# !python ./visualization/kitti_object_vis/show_single_lidar.py \\\n",
    "#     --lidar_dir /home/kasatkin/Desktop/Pseudo_Lidar_V2/results/MOTS/ESGM/pseudo_lidar_corrected/ \\\n",
    "#     --calib_dir /home/kasatkin/Desktop/Pseudo_Lidar_V2/data/MOTS/calib/ \\\n",
    "#     --output_dir /home/kasatkin/Desktop/F-ConvNet/output/viz_MOTS_training_13_ESGM/images/ \\\n",
    "#     --start_id 214 --max_id 340 --render_flag"
   ]
  },
  {
   "cell_type": "markdown",
   "metadata": {},
   "source": [
    "Сборка видео"
   ]
  },
  {
   "cell_type": "code",
   "execution_count": 4,
   "metadata": {},
   "outputs": [
    {
     "name": "stdout",
     "output_type": "stream",
     "text": [
      "/home/kasatkin/Desktop/F-ConvNet\n"
     ]
    }
   ],
   "source": [
    "import os\n",
    "from PIL import Image\n",
    "from PIL import ImageFont\n",
    "from PIL import ImageDraw\n",
    "\n",
    "print(os.getcwd())"
   ]
  },
  {
   "cell_type": "code",
   "execution_count": 6,
   "metadata": {},
   "outputs": [],
   "source": [
    "image_folder_1 = '/datasets/MOTS/training/image_02/0013/'\n",
    "image_folder_2 = '/home/kasatkin/Desktop/F-ConvNet/output/viz_MOTS_training_13_ESGM/images/'\n",
    "image_folder_3 = '/home/kasatkin/Desktop/F-ConvNet/output/viz_MOTS_training_13/images/'\n",
    "image_folder_4 = '/home/kasatkin/Desktop/F-ConvNet/output/viz_MOTS_training_13/wo_correction/sparse_images/'\n",
    "save_dir = '/home/kasatkin/Desktop/F-ConvNet/output/viz_MOTS_training_13_ESGM/merged_images/'"
   ]
  },
  {
   "cell_type": "code",
   "execution_count": 7,
   "metadata": {},
   "outputs": [
    {
     "name": "stdout",
     "output_type": "stream",
     "text": [
      "Skip 224 frame\n",
      "Skip 225 frame\n",
      "Skip 226 frame\n",
      "Skip 227 frame\n",
      "Skip 228 frame\n",
      "Skip 229 frame\n",
      "Skip 230 frame\n",
      "Skip 231 frame\n",
      "Skip 232 frame\n",
      "Skip 233 frame\n",
      "Skip 234 frame\n",
      "Skip 235 frame\n",
      "Skip 236 frame\n",
      "Skip 237 frame\n",
      "Skip 238 frame\n",
      "Skip 239 frame\n",
      "Skip 240 frame\n",
      "Skip 241 frame\n",
      "Skip 242 frame\n",
      "Skip 243 frame\n",
      "Skip 244 frame\n",
      "Skip 245 frame\n",
      "Skip 246 frame\n",
      "Skip 247 frame\n",
      "Skip 248 frame\n",
      "Skip 249 frame\n",
      "Skip 250 frame\n",
      "Skip 251 frame\n",
      "Skip 252 frame\n",
      "Skip 253 frame\n",
      "Skip 254 frame\n",
      "Skip 255 frame\n",
      "Skip 256 frame\n",
      "Skip 257 frame\n",
      "Skip 258 frame\n",
      "Skip 259 frame\n",
      "Skip 260 frame\n",
      "Skip 261 frame\n",
      "Skip 262 frame\n",
      "Skip 263 frame\n",
      "Skip 264 frame\n",
      "Skip 265 frame\n",
      "Skip 266 frame\n",
      "Skip 267 frame\n",
      "Skip 268 frame\n",
      "Skip 269 frame\n",
      "Skip 270 frame\n",
      "Skip 271 frame\n",
      "Skip 272 frame\n",
      "Skip 273 frame\n",
      "Skip 274 frame\n",
      "Skip 275 frame\n",
      "Skip 276 frame\n",
      "Skip 277 frame\n",
      "Skip 278 frame\n",
      "Skip 279 frame\n",
      "Skip 280 frame\n",
      "Skip 281 frame\n",
      "Skip 282 frame\n",
      "Skip 283 frame\n",
      "Skip 284 frame\n",
      "Skip 285 frame\n",
      "Skip 286 frame\n",
      "Skip 287 frame\n",
      "Skip 288 frame\n",
      "Skip 289 frame\n",
      "Skip 290 frame\n",
      "Skip 291 frame\n",
      "Skip 292 frame\n",
      "Skip 293 frame\n",
      "Skip 294 frame\n",
      "Skip 295 frame\n",
      "Skip 296 frame\n",
      "Skip 297 frame\n",
      "Skip 298 frame\n",
      "Skip 299 frame\n",
      "Skip 300 frame\n",
      "Skip 301 frame\n",
      "Skip 302 frame\n",
      "Skip 303 frame\n",
      "Skip 304 frame\n",
      "Skip 305 frame\n",
      "Skip 306 frame\n",
      "Skip 307 frame\n",
      "Skip 308 frame\n",
      "Skip 309 frame\n",
      "Skip 310 frame\n",
      "Skip 311 frame\n",
      "Skip 312 frame\n",
      "Skip 313 frame\n",
      "Skip 314 frame\n",
      "Skip 315 frame\n",
      "Skip 316 frame\n",
      "Skip 317 frame\n",
      "Skip 318 frame\n",
      "Skip 319 frame\n",
      "Skip 320 frame\n",
      "Skip 321 frame\n",
      "Skip 322 frame\n",
      "Skip 323 frame\n",
      "Skip 324 frame\n",
      "Skip 325 frame\n",
      "Skip 326 frame\n",
      "Skip 327 frame\n",
      "Skip 328 frame\n",
      "Skip 329 frame\n",
      "Skip 330 frame\n",
      "Skip 331 frame\n",
      "Skip 332 frame\n",
      "Skip 333 frame\n",
      "Skip 334 frame\n",
      "Skip 335 frame\n",
      "Skip 336 frame\n",
      "Skip 337 frame\n",
      "Skip 338 frame\n",
      "Skip 339 frame\n"
     ]
    }
   ],
   "source": [
    "shapes = (1242, 375*4)\n",
    "\n",
    "def merge_and_save(i):\n",
    "    img = Image.new('RGB', shapes)\n",
    "\n",
    "    img1 = Image.open(image_folder_1 + str(i).rjust(6, '0') + '.png')\n",
    "    img2 = Image.open(image_folder_2 + str(i).rjust(6, '0') + '.png')\n",
    "    img3 = Image.open(image_folder_3 + 'pc_' + str(i).rjust(3, '0') + '.png')\n",
    "    img4 = Image.open(image_folder_4 + 'pc_' + str(i).rjust(3, '0') + '.png')\n",
    "    \n",
    "    img.paste(img1, (0, 0))\n",
    "    img.paste(img2, (0, 375*1))\n",
    "    img.paste(img3, (0, 375*2))\n",
    "    img.paste(img4, (0, 375*3))\n",
    "    \n",
    "    draw = ImageDraw.Draw(img)\n",
    "    font = ImageFont.truetype(\"fonts.ttf\", 28)\n",
    "    draw.text((10, 10),\"Original image\",(255,255,255),font=font)\n",
    "    draw.text((10, 10 + 375*1), \"ESGM\",(255,255,255),font=font)\n",
    "    draw.text((10, 10 + 375*2), \"PL++ with correction\",(255,255,255),font=font)\n",
    "    draw.text((10, 10 + 375*3), \"Sparse w/o depth correction\",(255,255,255),font=font)\n",
    "\n",
    "    img.save(save_dir + str(i).rjust(6, '0') + '.png')\n",
    "    \n",
    "for i in range(340):\n",
    "    try:\n",
    "        merge_and_save(i)\n",
    "    except FileNotFoundError:\n",
    "        print(f'Skip {i} frame')"
   ]
  },
  {
   "cell_type": "code",
   "execution_count": 13,
   "metadata": {},
   "outputs": [
    {
     "name": "stdout",
     "output_type": "stream",
     "text": [
      "There are 224 frames\n"
     ]
    }
   ],
   "source": [
    "import imageio\n",
    "import glob\n",
    "import os\n",
    "\n",
    "save_video_path = '/home/kasatkin/Desktop/Videos/'\n",
    "frames = '/home/kasatkin/Desktop/F-ConvNet/output/viz_MOTS_training_13_ESGM/merged_images/'\n",
    "\n",
    "fileList = []\n",
    "print(f'There are {len(os.listdir(frames))} frames')\n",
    "for file in sorted(os.listdir(frames)):\n",
    "    complete_path = frames + file\n",
    "    fileList.append(complete_path)\n",
    "\n",
    "writer = imageio.get_writer(save_video_path + 'MOST_0013_ESGM_PL.avi', fps=10, macro_block_size=None)\n",
    "\n",
    "for i, im in enumerate(fileList):\n",
    "    writer.append_data(imageio.imread(im))\n",
    "writer.close()"
   ]
  },
  {
   "cell_type": "code",
   "execution_count": null,
   "metadata": {},
   "outputs": [],
   "source": []
  },
  {
   "cell_type": "code",
   "execution_count": null,
   "metadata": {},
   "outputs": [],
   "source": []
  },
  {
   "cell_type": "code",
   "execution_count": null,
   "metadata": {},
   "outputs": [],
   "source": []
  },
  {
   "cell_type": "code",
   "execution_count": null,
   "metadata": {},
   "outputs": [],
   "source": []
  },
  {
   "cell_type": "code",
   "execution_count": null,
   "metadata": {},
   "outputs": [],
   "source": []
  },
  {
   "cell_type": "code",
   "execution_count": null,
   "metadata": {},
   "outputs": [],
   "source": []
  },
  {
   "cell_type": "code",
   "execution_count": null,
   "metadata": {},
   "outputs": [],
   "source": []
  }
 ],
 "metadata": {
  "kernelspec": {
   "display_name": "Python 3",
   "language": "python",
   "name": "python3"
  },
  "language_info": {
   "codemirror_mode": {
    "name": "ipython",
    "version": 3
   },
   "file_extension": ".py",
   "mimetype": "text/x-python",
   "name": "python",
   "nbconvert_exporter": "python",
   "pygments_lexer": "ipython3",
   "version": "3.6.10"
  }
 },
 "nbformat": 4,
 "nbformat_minor": 4
}
